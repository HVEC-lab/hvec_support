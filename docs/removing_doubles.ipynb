{
 "cells": [
  {
   "cell_type": "code",
   "execution_count": 11,
   "metadata": {},
   "outputs": [],
   "source": [
    "import sqlite3 as sq\n",
    "import os"
   ]
  },
  {
   "cell_type": "code",
   "execution_count": 12,
   "metadata": {},
   "outputs": [],
   "source": [
    "path = os.getenv('DATAPATH')\n",
    "file = 'GLOSS.db'"
   ]
  },
  {
   "cell_type": "code",
   "execution_count": 13,
   "metadata": {},
   "outputs": [],
   "source": [
    "cnxn = sq.connect(path + file)"
   ]
  },
  {
   "cell_type": "code",
   "execution_count": 14,
   "metadata": {},
   "outputs": [
    {
     "data": {
      "text/plain": [
       "[('Zanzibar',\n",
       "  0,\n",
       "  2.01333283730779,\n",
       "  -0.0033938264377779,\n",
       "  0.00252704486033681,\n",
       "  -0.000244173110159155,\n",
       "  0.00362361545994707,\n",
       "  0.00362361545994707,\n",
       "  0.642286363216712,\n",
       "  'z0'),\n",
       " ('Walvis Bay',\n",
       "  0,\n",
       "  0.971277933400964,\n",
       "  0.000366799069660424,\n",
       "  0.000506025988818012,\n",
       "  -1.46898609568801e-05,\n",
       "  0.0188853847271027,\n",
       "  0.0188853847271027,\n",
       "  -0.128670573497478,\n",
       "  'z0')]"
      ]
     },
     "execution_count": 14,
     "metadata": {},
     "output_type": "execute_result"
    }
   ],
   "source": [
    "cnxn.execute(\n",
    "    \"SELECT * FROM 'parametersFullModel' \"\n",
    "    \"WHERE rowid NOT IN ( \"\n",
    "        \"SELECT MIN(rowid) \" \n",
    "        \"FROM 'parametersFullModel' \" \n",
    "        \"GROUP BY station_name)\"\n",
    ").fetchall()"
   ]
  },
  {
   "cell_type": "code",
   "execution_count": 26,
   "metadata": {},
   "outputs": [],
   "source": [
    "subSql = \"SELECT MIN(rowid) FROM parametersFullModel GROUP BY station_name, var\""
   ]
  },
  {
   "cell_type": "code",
   "execution_count": 27,
   "metadata": {},
   "outputs": [
    {
     "data": {
      "text/plain": [
       "'SELECT * FROM parametersFullModel WHERE rowid NOT IN (SELECT MIN(rowid) FROM parametersFullModel GROUP BY station_name)'"
      ]
     },
     "execution_count": 27,
     "metadata": {},
     "output_type": "execute_result"
    }
   ],
   "source": [
    "sql = f\"SELECT * FROM parametersFullModel WHERE rowid NOT IN ({subSql})\"\n",
    "sql"
   ]
  },
  {
   "cell_type": "code",
   "execution_count": 28,
   "metadata": {},
   "outputs": [
    {
     "data": {
      "text/plain": [
       "[('Zanzibar',\n",
       "  0,\n",
       "  2.01333283730779,\n",
       "  -0.0033938264377779,\n",
       "  0.00252704486033681,\n",
       "  -0.000244173110159155,\n",
       "  0.00362361545994707,\n",
       "  0.00362361545994707,\n",
       "  0.642286363216712,\n",
       "  'z0'),\n",
       " ('Walvis Bay',\n",
       "  0,\n",
       "  0.971277933400964,\n",
       "  0.000366799069660424,\n",
       "  0.000506025988818012,\n",
       "  -1.46898609568801e-05,\n",
       "  0.0188853847271027,\n",
       "  0.0188853847271027,\n",
       "  -0.128670573497478,\n",
       "  'z0')]"
      ]
     },
     "execution_count": 28,
     "metadata": {},
     "output_type": "execute_result"
    }
   ],
   "source": [
    "cnxn.execute(sql).fetchall()"
   ]
  },
  {
   "cell_type": "code",
   "execution_count": null,
   "metadata": {},
   "outputs": [],
   "source": []
  }
 ],
 "metadata": {
  "kernelspec": {
   "display_name": "Python 3.10.4 64-bit",
   "language": "python",
   "name": "python3"
  },
  "language_info": {
   "codemirror_mode": {
    "name": "ipython",
    "version": 3
   },
   "file_extension": ".py",
   "mimetype": "text/x-python",
   "name": "python",
   "nbconvert_exporter": "python",
   "pygments_lexer": "ipython3",
   "version": "3.10.4"
  },
  "orig_nbformat": 4,
  "vscode": {
   "interpreter": {
    "hash": "8f524c5d4fd00a57cf286a859919f18af5e86658323418c29131ee166da378b4"
   }
  }
 },
 "nbformat": 4,
 "nbformat_minor": 2
}
